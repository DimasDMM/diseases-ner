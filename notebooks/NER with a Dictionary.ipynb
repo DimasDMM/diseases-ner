{
 "cells": [
  {
   "cell_type": "markdown",
   "metadata": {},
   "source": [
    "# NER with a Dictionary\n",
    "\n",
    "This is a naive approach of NER using a fixed list of medical terms and names of diseases. Basically, the NER will be as good as good is the list. I have used a scrapper to obtain a little list of diseases (in English), I did a bit of manual parsing on the list and store them in the file `diseases.txt`. My goal is to see how good can be an algorithm based on such list.\n",
    "\n",
    "A simlar approch is creating a list of Regular Expression for a particular language. Obviously, a person must create those patterns, so it can be hard to maintain a big list of patterns."
   ]
  },
  {
   "cell_type": "code",
   "execution_count": 1,
   "metadata": {},
   "outputs": [],
   "source": [
    "import re\n",
    "import string\n",
    "import copy\n",
    "import numpy as np\n",
    "import pandas as pd\n",
    "import seaborn as sns\n",
    "import matplotlib.pyplot as plt\n",
    "\n",
    "import en_core_web_sm\n",
    "from spacy.tokenizer import Tokenizer\n",
    "from spacy.lang.en import English\n",
    "from spacy.lang.en.stop_words import STOP_WORDS as STOP_WORDS_SET"
   ]
  },
  {
   "cell_type": "code",
   "execution_count": 2,
   "metadata": {},
   "outputs": [],
   "source": [
    "DATA_PATH = '../data/'\n",
    "PARSED_DATA_PATH = DATA_PATH + 'parsed/'\n",
    "SPLIT_CHAR = ' '\n",
    "\n",
    "corpus_test_file = 'corpus_test.txt'\n",
    "bin_corpus_test_file = 'bin_corpus_test.txt'\n",
    "diseases_file = 'diseases.txt'\n",
    "\n",
    "with open(PARSED_DATA_PATH + corpus_test_file, 'r') as fp:\n",
    "    test_dataset = fp.readlines()\n",
    "\n",
    "with open(PARSED_DATA_PATH + bin_corpus_test_file, 'r') as fp:\n",
    "    bin_test_dataset = fp.readlines()\n",
    "    bin_test_dataset = [s.strip().split(SPLIT_CHAR) if s.strip() != '' else [] for s in bin_test_dataset]\n",
    "    bin_test_dataset = [np.array(s).astype('int') for s in bin_test_dataset]\n",
    "\n",
    "with open(DATA_PATH + diseases_file, 'r') as fp:\n",
    "    diseases = fp.readlines()"
   ]
  },
  {
   "cell_type": "code",
   "execution_count": 3,
   "metadata": {},
   "outputs": [],
   "source": [
    "def get_nlp_engine(basic_tokenizer=False):\n",
    "    if basic_tokenizer:\n",
    "        nlp = English()\n",
    "    else:\n",
    "        nlp = en_core_web_sm.load()\n",
    "    return nlp"
   ]
  },
  {
   "cell_type": "code",
   "execution_count": 4,
   "metadata": {},
   "outputs": [],
   "source": [
    "def tokenize_texts(texts, basic_tokenizer=False):\n",
    "    texts = texts.copy()\n",
    "    nlp = get_nlp_engine(basic_tokenizer=basic_tokenizer)\n",
    "    \n",
    "    for index, text in enumerate(texts):\n",
    "        nlp_tokens = nlp(text)\n",
    "        \n",
    "        pos = [w.pos_ for w in nlp_tokens]\n",
    "        lemmas = [w.lemma_.strip() if w.lemma_ != \"-PRON-\" else w.lower_.strip() for w in nlp_tokens]\n",
    "        lemmas = [w if any(c.isupper() for c in w) else w for w in lemmas]\n",
    "        \n",
    "        # Remove empty tokens\n",
    "        tokens = [(lemmas[i].strip(), pos[i], nlp_tokens[i]) for i in range(len(nlp_tokens)) if lemmas[i].strip() != '']\n",
    "        \n",
    "        texts[index] = tokens\n",
    "    \n",
    "    return texts"
   ]
  },
  {
   "cell_type": "code",
   "execution_count": 5,
   "metadata": {},
   "outputs": [],
   "source": [
    "diseases = tokenize_texts(diseases)\n",
    "test_dataset = tokenize_texts(test_dataset)\n",
    "\n",
    "tok_diseases = [[d[0] for d in disease] for disease in diseases]\n",
    "tok_test_dataset = [[d[0] for d in text] for text in test_dataset]"
   ]
  },
  {
   "cell_type": "markdown",
   "metadata": {},
   "source": [
    "## Find diseases in texts\n",
    "\n",
    "I compute the \"intersection\" of the list of diseases with the texts of the dataset. If there is a *match*, I store $1$ in an array (otherwise I store $0$). In the end, I will have a sequence of 1s and 0s, so I can compare it with the real labels."
   ]
  },
  {
   "cell_type": "code",
   "execution_count": 6,
   "metadata": {},
   "outputs": [],
   "source": [
    "def get_maxbin_dataset(tokenized_dataset, tok_diseases):\n",
    "    ignored_tokens = list(STOP_WORDS_SET) + list(string.punctuation)\n",
    "\n",
    "    special_separators = re.compile(r'^[0-9_\\-\\\\/]+$')\n",
    "\n",
    "    bin_entities_per_text = []\n",
    "\n",
    "    for tokens in tokenized_dataset:\n",
    "        len_tokens = len(tokens)\n",
    "\n",
    "        bin_entities = np.zeros(len_tokens, dtype=int)\n",
    "\n",
    "        # Find diseases coincidences\n",
    "        for index, token in enumerate(tokens):\n",
    "            if token in ignored_tokens or special_separators.match(token):\n",
    "                # Ignore certain tokens\n",
    "                continue\n",
    "\n",
    "            for disease_tokens in tok_diseases:\n",
    "                if token in disease_tokens:\n",
    "                    bin_entities[index] = 1\n",
    "                    break\n",
    "\n",
    "        # Given a token with matches as a disease, if the next token is a \"certain separator\", then add it\n",
    "        # as a coincidence as well as the next token to the separator. Idem. with previous tokens.\n",
    "\n",
    "        # Forward\n",
    "        for i in range(2, len_tokens):\n",
    "            if special_separators.match(tokens[i - 1]) and bin_entities[i - 2] == 1:\n",
    "                bin_entities[i - 1] = 1\n",
    "                bin_entities[i] = 1\n",
    "\n",
    "        # Backwards\n",
    "        for i in range(len_tokens - 2):\n",
    "            if special_separators.match(tokens[i + 1]) and bin_entities[i + 2] == 1:\n",
    "                bin_entities[i + 1] = 1\n",
    "                bin_entities[i] = 1\n",
    "\n",
    "        bin_entities_per_text.append(bin_entities)\n",
    "    \n",
    "    return bin_entities_per_text"
   ]
  },
  {
   "cell_type": "code",
   "execution_count": 7,
   "metadata": {},
   "outputs": [],
   "source": [
    "pred_bin_test_dataset = get_maxbin_dataset(tok_test_dataset, tok_diseases)"
   ]
  },
  {
   "cell_type": "code",
   "execution_count": 8,
   "metadata": {},
   "outputs": [
    {
     "name": "stdout",
     "output_type": "stream",
     "text": [
      "[0 0 0 0 0 0 0 0 0 0 0 0 0 1 1 1 1 0]\n",
      "[0 0 0 0 0 0 1 1 1 0 0 0 1 1 1 1 1 0]\n"
     ]
    }
   ],
   "source": [
    "# Quick overview of a prediction and the expected output\n",
    "print(pred_bin_test_dataset[0])\n",
    "print(bin_test_dataset[0])"
   ]
  },
  {
   "cell_type": "markdown",
   "metadata": {},
   "source": [
    "## Evaluation\n",
    "\n",
    "A quick comparison show us the we are not detecting all the entities that we should be identify. On the one hand, I am not getting \"false entities\" (only around $2\\%$) which it is pretty good. On the other hand, I only find around $27\\%$ entities (very low).\n",
    "\n",
    "It is not a really bad result for such small dictionary `diseases.txt`."
   ]
  },
  {
   "cell_type": "code",
   "execution_count": 9,
   "metadata": {},
   "outputs": [],
   "source": [
    "def confusion_matrix(real_bin_dataset, pred_bin_dataset):\n",
    "    if len(real_bin_dataset) != len(pred_bin_dataset):\n",
    "        raise Exception('Different lengths in lists: %d vs %d' % (len(real_bin_dataset), len(pred_bin_dataset)))\n",
    "    \n",
    "    tn = 0\n",
    "    fp = 0\n",
    "    fn = 0\n",
    "    tp = 0\n",
    "    \n",
    "    text_i = 0\n",
    "    len_texts = len(real_bin_dataset)\n",
    "    \n",
    "    while text_i < len_texts:\n",
    "        token_i = 0\n",
    "        len_text = len(real_bin_dataset[text_i])\n",
    "        \n",
    "        while token_i < len_text:\n",
    "            if real_bin_dataset[text_i][token_i] == 1:\n",
    "                tp = tp + int(pred_bin_dataset[text_i][token_i] == 1)\n",
    "                fn = fn + int(pred_bin_dataset[text_i][token_i] == 0)\n",
    "            else:\n",
    "                fp = fp + int(pred_bin_dataset[text_i][token_i] == 1)\n",
    "                tn = tn + int(pred_bin_dataset[text_i][token_i] == 0)\n",
    "            token_i = token_i + 1\n",
    "\n",
    "        text_i = text_i + 1\n",
    "    \n",
    "    return np.array([[tn, fp], [fn, tp]])"
   ]
  },
  {
   "cell_type": "code",
   "execution_count": 10,
   "metadata": {},
   "outputs": [],
   "source": [
    "def plot_confusion_matrix(conf_matrix, normalize=True):\n",
    "    conf_matrix = copy.deepcopy(conf_matrix)\n",
    "    \n",
    "    if normalize:\n",
    "        conf_matrix = np.around(conf_matrix.astype('float') / conf_matrix.sum(axis=1)[:, np.newaxis], decimals=2)\n",
    "    \n",
    "    label_names = ['Bad', 'Good']\n",
    "    df_confusion_matrix = pd.DataFrame(conf_matrix,\n",
    "                                       index=label_names, \n",
    "                                       columns=label_names)\n",
    "\n",
    "    plt.figure(figsize=(5, 5))\n",
    "    sns.heatmap(df_confusion_matrix, cmap=plt.cm.Blues, annot=True)\n",
    "    plt.ylabel('True label')\n",
    "    plt.xlabel('Predicted label')"
   ]
  },
  {
   "cell_type": "code",
   "execution_count": 11,
   "metadata": {},
   "outputs": [
    {
     "data": {
      "image/png": "[encoded data removed]",
      "text/plain": [
       "<Figure size 360x360 with 2 Axes>"
      ]
     },
     "metadata": {
      "needs_background": "light"
     },
     "output_type": "display_data"
    }
   ],
   "source": [
    "cm = confusion_matrix(bin_test_dataset, pred_bin_test_dataset)\n",
    "plot_confusion_matrix(cm)"
   ]
  },
  {
   "cell_type": "markdown",
   "metadata": {},
   "source": [
    "## Make a prediction"
   ]
  },
  {
   "cell_type": "code",
   "execution_count": 12,
   "metadata": {},
   "outputs": [],
   "source": [
    "def bin_pred_to_str(nlp_text, bin_pred):\n",
    "    i = 0\n",
    "    \n",
    "    text_length = len(nlp_text)\n",
    "    entities = []\n",
    "\n",
    "    # Get list of entities separately\n",
    "    entities_stack = []\n",
    "    while i < text_length:\n",
    "        if bin_pred[i]:\n",
    "            entities_stack.append((i, nlp_text[i][2].text_with_ws))\n",
    "        i = i + 1\n",
    "\n",
    "    # Concatenate consecutive entities\n",
    "    last_pos = None\n",
    "    for e in entities_stack:\n",
    "        if last_pos == e[0] - 1:\n",
    "            last_pos = e[0]\n",
    "            n_entities = len(entities) - 1\n",
    "            entities[n_entities] = entities[n_entities] + e[1]\n",
    "        else:\n",
    "            last_pos = e[0]\n",
    "            entities.append(e[1])\n",
    "\n",
    "    entities = [e.strip() for e in entities]        \n",
    "    \n",
    "    return entities"
   ]
  },
  {
   "cell_type": "code",
   "execution_count": 13,
   "metadata": {},
   "outputs": [],
   "source": [
    "def get_entities(text, tok_diseases):\n",
    "    # Put the previous text inside of a list\n",
    "    texts = list([text])\n",
    "\n",
    "    # Tokenize it and get PoS tags\n",
    "    nlp_text = tokenize_texts(texts)[0]\n",
    "    \n",
    "    tok_text = list([[w[0] for w in nlp_text]])\n",
    "    pred_bin_text = get_maxbin_dataset(tok_text, tok_diseases)[0]\n",
    "    \n",
    "    pred_str_entities = bin_pred_to_str(nlp_text, pred_bin_text)\n",
    "    \n",
    "    return pred_str_entities"
   ]
  },
  {
   "cell_type": "code",
   "execution_count": 14,
   "metadata": {},
   "outputs": [
    {
     "name": "stdout",
     "output_type": "stream",
     "text": [
      "['T-cell leukaemia']\n"
     ]
    }
   ],
   "source": [
    "text = 'Clustering of missense mutations in the ataxia-telangiectasia gene in a sporadic T-cell leukaemia .'\n",
    "\n",
    "pred_str_entities = get_entities(text, tok_diseases)\n",
    "\n",
    "print(pred_str_entities)"
   ]
  },
  {
   "cell_type": "code",
   "execution_count": 15,
   "metadata": {},
   "outputs": [
    {
     "name": "stdout",
     "output_type": "stream",
     "text": [
      "['scoliosis']\n"
     ]
    }
   ],
   "source": [
    "text = 'The patient has been diagnosed with scoliosis.'\n",
    "\n",
    "pred_str_entities = get_entities(text, tok_diseases)\n",
    "\n",
    "print(pred_str_entities)"
   ]
  },
  {
   "cell_type": "code",
   "execution_count": null,
   "metadata": {},
   "outputs": [],
   "source": []
  }
 ],
 "metadata": {
  "kernelspec": {
   "display_name": "Python 3",
   "language": "python",
   "name": "python3"
  },
  "language_info": {
   "codemirror_mode": {
    "name": "ipython",
    "version": 3
   },
   "file_extension": ".py",
   "mimetype": "text/x-python",
   "name": "python",
   "nbconvert_exporter": "python",
   "pygments_lexer": "ipython3",
   "version": "3.7.6"
  }
 },
 "nbformat": 4,
 "nbformat_minor": 4
}
