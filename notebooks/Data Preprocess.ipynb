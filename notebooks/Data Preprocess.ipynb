{
 "cells": [
  {
   "cell_type": "markdown",
   "metadata": {},
   "source": [
    "# Data Preprocess\n",
    "\n",
    "Take into account that all this analysis and preprocess depends on the language that you are working with. In this case, the original dataset is in **English**.\n",
    "\n",
    "If you receive any error when trying to import `en_core_web_sm`, try executing this command first: `python -m spacy download en_core_web_sm`"
   ]
  },
  {
   "cell_type": "code",
   "execution_count": 1,
   "metadata": {},
   "outputs": [],
   "source": [
    "import os\n",
    "import re\n",
    "import copy\n",
    "import numpy as np\n",
    "\n",
    "import matplotlib.pyplot as plt\n",
    "%matplotlib inline\n",
    "\n",
    "import string\n",
    "import en_core_web_sm\n",
    "from spacy.tokenizer import Tokenizer\n",
    "from spacy.lang.en import English\n",
    "from spacy.lang.en.stop_words import STOP_WORDS as STOP_WORDS_SET"
   ]
  },
  {
   "cell_type": "markdown",
   "metadata": {},
   "source": [
    "## Read the dataset\n",
    "\n",
    "Despite you will find your dataset in a CSV, in this respository the data is stored in a database. Here I have defined a few functions to manage the connection with the database and parse the results."
   ]
  },
  {
   "cell_type": "code",
   "execution_count": 2,
   "metadata": {},
   "outputs": [
    {
     "name": "stdout",
     "output_type": "stream",
     "text": [
      "Train texts: 593\n",
      "Test texts: 100\n"
     ]
    }
   ],
   "source": [
    "DATA_PATH = '../data/'\n",
    "\n",
    "train_file = 'NCBI_corpus_training.txt'\n",
    "test_file = 'NCBI_corpus_testing.txt'\n",
    "\n",
    "with open(DATA_PATH + train_file, 'r') as fp:\n",
    "    train_dataset = fp.readlines()\n",
    "\n",
    "with open(DATA_PATH + test_file, 'r') as fp:\n",
    "    test_dataset = fp.readlines()\n",
    "\n",
    "print('Train texts: %d' % len(train_dataset))\n",
    "print('Test texts: %d' % len(test_dataset))"
   ]
  },
  {
   "cell_type": "markdown",
   "metadata": {},
   "source": [
    "## Preprocess\n",
    "\n",
    "This is a minimal preprocess, as I do not want to remove any essential information from texts."
   ]
  },
  {
   "cell_type": "code",
   "execution_count": 3,
   "metadata": {},
   "outputs": [],
   "source": [
    "def get_nlp_engine(basic_tokenizer=False):\n",
    "    if basic_tokenizer:\n",
    "        nlp = English()\n",
    "    else:\n",
    "        nlp = en_core_web_sm.load()\n",
    "    return nlp"
   ]
  },
  {
   "cell_type": "markdown",
   "metadata": {},
   "source": [
    "The dataset that I am using contains a number in the beginning of every text. Here I remove that number."
   ]
  },
  {
   "cell_type": "code",
   "execution_count": 4,
   "metadata": {},
   "outputs": [],
   "source": [
    "def apply_initial_number_remover(texts):\n",
    "    texts = [re.sub(r'^[0-9]+\\s*', '', text) for text in texts]\n",
    "    return texts"
   ]
  },
  {
   "cell_type": "code",
   "execution_count": 5,
   "metadata": {},
   "outputs": [],
   "source": [
    "train_dataset = apply_initial_number_remover(train_dataset)\n",
    "test_dataset = apply_initial_number_remover(test_dataset)\n",
    "\n",
    "#print(train_dataset[0]) # Sample"
   ]
  },
  {
   "cell_type": "markdown",
   "metadata": {},
   "source": [
    "Segmentize texts in sentences, i.e. I am going to consider each sentence as an independent sample in the input of the model."
   ]
  },
  {
   "cell_type": "code",
   "execution_count": 6,
   "metadata": {},
   "outputs": [],
   "source": [
    "def apply_sentences_split(texts):\n",
    "    nlp = get_nlp_engine()\n",
    "    nlp.add_pipe(nlp.create_pipe('sentencizer'))\n",
    "    \n",
    "    sentences = []\n",
    "    for text in texts:\n",
    "        t_sentences = nlp(text)\n",
    "        t_sentences = [s.text.strip() for s in t_sentences.sents if s.text.strip() != '']\n",
    "        sentences = sentences + t_sentences\n",
    "    \n",
    "    return sentences"
   ]
  },
  {
   "cell_type": "code",
   "execution_count": 7,
   "metadata": {},
   "outputs": [],
   "source": [
    "train_dataset = apply_sentences_split(train_dataset)\n",
    "test_dataset = apply_sentences_split(test_dataset)\n",
    "\n",
    "#print(train_dataset[0:5]) # Sample"
   ]
  },
  {
   "cell_type": "markdown",
   "metadata": {},
   "source": [
    "Before I clean each sentence, I get all tags \"*category*\" from them, so I can use them **to measure the performance** of my NER algorithm."
   ]
  },
  {
   "cell_type": "code",
   "execution_count": 8,
   "metadata": {},
   "outputs": [],
   "source": [
    "\"\"\"\n",
    "Returns a list \"text ID -> list of entities\" where list of entities\n",
    "is a list of tuples like \"(category name, text in tag)\"\n",
    "\"\"\"\n",
    "def get_entities_in_category_tags(texts):\n",
    "    entities = []\n",
    "    for text_id, text in enumerate(texts):\n",
    "        t_entities = re.findall(r'<category=\"(.+?)\">(.+?)</category>', text)\n",
    "        entities.append(t_entities)\n",
    "    \n",
    "    return entities"
   ]
  },
  {
   "cell_type": "code",
   "execution_count": 9,
   "metadata": {},
   "outputs": [],
   "source": [
    "train_entities = get_entities_in_category_tags(train_dataset)\n",
    "test_entities = get_entities_in_category_tags(test_dataset)\n",
    "\n",
    "#print(train_entities[0]) # Sample"
   ]
  },
  {
   "cell_type": "markdown",
   "metadata": {},
   "source": [
    "Now, let's **remove the \"*category*\" tags** as well as **stop words** and **punctuation symbols**. Also, I **normalize words** which contain some capital letters: the first letter will be capitalized and the rest will be in lower cases."
   ]
  },
  {
   "cell_type": "code",
   "execution_count": 10,
   "metadata": {},
   "outputs": [],
   "source": [
    "def apply_tag_cleaner(texts):\n",
    "    texts = texts.copy()\n",
    "    for index, text in enumerate(texts):\n",
    "        text = re.sub(r'<category=\".+?\">', ' ', text)\n",
    "        text = re.sub(r'</category>', ' ', text)\n",
    "        text = re.sub(r'\\s+', ' ', text)\n",
    "        texts[index] = text.strip()\n",
    "    \n",
    "    return texts"
   ]
  },
  {
   "cell_type": "code",
   "execution_count": 11,
   "metadata": {},
   "outputs": [],
   "source": [
    "train_dataset = apply_tag_cleaner(train_dataset)\n",
    "test_dataset = apply_tag_cleaner(test_dataset)\n",
    "\n",
    "#print(train_dataset[0]) # Sample"
   ]
  },
  {
   "cell_type": "markdown",
   "metadata": {},
   "source": [
    "Analyze the corpus in two different ways:\n",
    "- As 1s and 0s, where $1$ indicate that there is an entity and $0$ that it is just a normal word.\n",
    "- As PoS tags."
   ]
  },
  {
   "cell_type": "code",
   "execution_count": 12,
   "metadata": {},
   "outputs": [],
   "source": [
    "def tokenize_texts(texts, basic_tokenizer=False):\n",
    "    texts = texts.copy()\n",
    "    nlp = get_nlp_engine(basic_tokenizer=basic_tokenizer)\n",
    "    \n",
    "    for index, text in enumerate(texts):\n",
    "        nlp_tokens = nlp(text)\n",
    "        \n",
    "        pos = [w.pos_ for w in nlp_tokens]\n",
    "        lemmas = [w.lemma_.strip() if w.lemma_ != \"-PRON-\" else w.lower_.strip() for w in nlp_tokens]\n",
    "        lemmas = [w if any(c.isupper() for c in w) else w for w in lemmas]\n",
    "        \n",
    "        # Remove empty tokens\n",
    "        tokens = [(lemmas[i].strip(), pos[i], nlp_tokens[i]) for i in range(len(nlp_tokens)) if lemmas[i].strip() != '']\n",
    "        \n",
    "        texts[index] = tokens\n",
    "    \n",
    "    return texts"
   ]
  },
  {
   "cell_type": "code",
   "execution_count": 13,
   "metadata": {},
   "outputs": [],
   "source": [
    "def get_bin_exact_dataset(dataset, entities):\n",
    "    tokenized_dataset = tokenize_texts(dataset, basic_tokenizer=True)\n",
    "    tokenized_dataset = [[w[0] for w in text] for text in tokenized_dataset]\n",
    "    \n",
    "    bin_entities_per_text = []\n",
    "\n",
    "    for text_i, tokens in enumerate(tokenized_dataset):\n",
    "        len_tokens = len(tokens)\n",
    "\n",
    "        bin_entities = np.zeros(len_tokens, dtype=int)\n",
    "\n",
    "        token_i = 0\n",
    "        for tup_entity in entities[text_i]:\n",
    "            token_start = -1\n",
    "            token_stop = -1\n",
    "            \n",
    "            entity = tokenize_texts([tup_entity[1]], basic_tokenizer=True)[0]\n",
    "            entity = [w[0] for w in entity]\n",
    "            \n",
    "            ent_i = 0\n",
    "            while token_i < len_tokens:\n",
    "                ### Fixed values: there are some mismatches :/ ###\n",
    "                # TO DO: Fix tokenizer so I do not need to tokenize the entities separately\n",
    "                if tokens[token_i] == 'Iowa':\n",
    "                    tokens[token_i] = 'Ia'\n",
    "                ###\n",
    "                \n",
    "                if entity[ent_i].lower() == tokens[token_i].lower():\n",
    "                    if token_start == -1:\n",
    "                        token_start = token_i\n",
    "                    \n",
    "                    ent_i = ent_i + 1\n",
    "                    token_i = token_i + 1\n",
    "                    \n",
    "                    if ent_i == len(entity):\n",
    "                        token_stop = token_i\n",
    "                        break\n",
    "                else:\n",
    "                    token_start = -1\n",
    "                    token_i = token_i + 1\n",
    "            \n",
    "            if token_stop == -1:\n",
    "                print(tokens)\n",
    "                raise Exception('Entity not found:', entity)\n",
    "            else:\n",
    "                bin_entities[range(token_start, token_stop)] = 1\n",
    "\n",
    "        bin_entities_per_text.append(bin_entities)\n",
    "    \n",
    "    return bin_entities_per_text"
   ]
  },
  {
   "cell_type": "code",
   "execution_count": 14,
   "metadata": {},
   "outputs": [],
   "source": [
    "bin_train_dataset = get_bin_exact_dataset(train_dataset, train_entities)\n",
    "bin_test_dataset = get_bin_exact_dataset(test_dataset, test_entities)"
   ]
  },
  {
   "cell_type": "markdown",
   "metadata": {},
   "source": [
    "## Data overview\n",
    "\n",
    "A quick overview of the data shows up that almost all sentences are less than $50$ tokens in length."
   ]
  },
  {
   "cell_type": "code",
   "execution_count": 16,
   "metadata": {},
   "outputs": [],
   "source": [
    "full_bin_dataset = bin_train_dataset + bin_test_dataset"
   ]
  },
  {
   "cell_type": "code",
   "execution_count": 17,
   "metadata": {},
   "outputs": [
    {
     "data": {
      "text/plain": [
       "<function matplotlib.pyplot.show(*args, **kw)>"
      ]
     },
     "execution_count": 17,
     "metadata": {},
     "output_type": "execute_result"
    },
    {
     "data": {
      "image/png": "[encoded data removed]",
      "text/plain": [
       "<Figure size 432x432 with 1 Axes>"
      ]
     },
     "metadata": {
      "needs_background": "light"
     },
     "output_type": "display_data"
    }
   ],
   "source": [
    "plt.figure(figsize=(6, 6))\n",
    "plt.hist([len(s) for s in full_bin_dataset], bins=50)\n",
    "plt.show"
   ]
  },
  {
   "cell_type": "markdown",
   "metadata": {},
   "source": [
    "## Save preprocessed dataset\n",
    "\n",
    "Finally, I **save the preprocess results**, so I can use it in the next steps (to train a model)."
   ]
  },
  {
   "cell_type": "code",
   "execution_count": 18,
   "metadata": {},
   "outputs": [],
   "source": [
    "NEW_LINE_CHAR = \"\\n\"\n",
    "STR_JOIN_CHAR = ' '\n",
    "\n",
    "corpus_train_file = 'corpus_train.txt'\n",
    "corpus_test_file = 'corpus_test.txt'\n",
    "bin_corpus_train_file = 'bin_corpus_train.txt'\n",
    "bin_corpus_test_file = 'bin_corpus_test.txt'\n",
    "\n",
    "PARSED_DATA_PATH = DATA_PATH + 'parsed/'\n",
    "if not os.path.exists(PARSED_DATA_PATH):\n",
    "    os.mkdir(PARSED_DATA_PATH)\n",
    "\n",
    "# Store full parsed texts\n",
    "with open(PARSED_DATA_PATH + corpus_train_file, 'w') as fp:\n",
    "    fp.write(NEW_LINE_CHAR.join(train_dataset))\n",
    "\n",
    "with open(PARSED_DATA_PATH + corpus_test_file, 'w') as fp:\n",
    "    fp.write(NEW_LINE_CHAR.join(test_dataset))\n",
    "\n",
    "# Store corpus as 1s and 0s\n",
    "with open(PARSED_DATA_PATH + bin_corpus_train_file, 'w') as fp:\n",
    "    bin_lines = [STR_JOIN_CHAR.join(t.astype('str')) for t in bin_train_dataset]\n",
    "    fp.write(NEW_LINE_CHAR.join(bin_lines))\n",
    "\n",
    "with open(PARSED_DATA_PATH + bin_corpus_test_file, 'w') as fp:\n",
    "    bin_lines = [STR_JOIN_CHAR.join(t.astype('str')) for t in bin_test_dataset]\n",
    "    fp.write(NEW_LINE_CHAR.join(bin_lines))"
   ]
  },
  {
   "cell_type": "code",
   "execution_count": null,
   "metadata": {},
   "outputs": [],
   "source": []
  }
 ],
 "metadata": {
  "kernelspec": {
   "display_name": "Python 3",
   "language": "python",
   "name": "python3"
  },
  "language_info": {
   "codemirror_mode": {
    "name": "ipython",
    "version": 3
   },
   "file_extension": ".py",
   "mimetype": "text/x-python",
   "name": "python",
   "nbconvert_exporter": "python",
   "pygments_lexer": "ipython3",
   "version": "3.7.4"
  }
 },
 "nbformat": 4,
 "nbformat_minor": 4
}
