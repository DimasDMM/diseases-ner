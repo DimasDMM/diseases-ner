{
 "cells": [
  {
   "cell_type": "markdown",
   "metadata": {},
   "source": [
    "# NER with LSTM-CRF\n",
    "\n",
    "It is necessary to install not only tensorflow and keras but also keras-contrib to use this notebook: `pip install git+https://www.github.com/keras-team/keras-contrib.git`"
   ]
  },
  {
   "cell_type": "code",
   "execution_count": 1,
   "metadata": {},
   "outputs": [
    {
     "name": "stderr",
     "output_type": "stream",
     "text": [
      "Using TensorFlow backend.\n"
     ]
    }
   ],
   "source": [
    "import copy\n",
    "import os\n",
    "import pickle\n",
    "import numpy as np\n",
    "import pandas as pd\n",
    "import seaborn as sns\n",
    "import matplotlib.pyplot as plt\n",
    "\n",
    "import en_core_web_sm\n",
    "from spacy.tokenizer import Tokenizer\n",
    "from spacy.lang.en import English\n",
    "\n",
    "import tensorflow as tf\n",
    "from keras.models import Model\n",
    "from keras.layers import Input, Embedding, LSTM, Dense, TimeDistributed, Reshape, Bidirectional, concatenate, Flatten\n",
    "from keras_contrib.layers import CRF\n",
    "from keras_contrib.metrics import crf_accuracy\n",
    "from keras_contrib.losses import crf_loss\n",
    "from keras.utils import to_categorical\n",
    "\n",
    "from tensorflow.keras.preprocessing import sequence\n",
    "from tensorflow.keras.preprocessing.text import Tokenizer"
   ]
  },
  {
   "cell_type": "code",
   "execution_count": 2,
   "metadata": {},
   "outputs": [],
   "source": [
    "DATA_PATH = '../data/'\n",
    "ARTIFACTS_PATH = '../artifacts/'\n",
    "\n",
    "PARSED_DATA_PATH = DATA_PATH + 'parsed/'\n",
    "SPLIT_CHAR = ' '\n",
    "MAX_SEQUENCE_LENGTH = 50\n",
    "\n",
    "MODEL_NAME = 'ner-lstm-crf'"
   ]
  },
  {
   "cell_type": "markdown",
   "metadata": {},
   "source": [
    "## Load data\n",
    "\n",
    "The files `bin_corpus_<>` contain the same texts but as a numbers, where $1$ means that it is a medical term and $0$ that it is just a \"common\" word."
   ]
  },
  {
   "cell_type": "code",
   "execution_count": 3,
   "metadata": {},
   "outputs": [],
   "source": [
    "corpus_train_file = 'corpus_train.txt'\n",
    "corpus_test_file = 'corpus_test.txt'\n",
    "bin_corpus_train_file = 'bin_corpus_train.txt'\n",
    "bin_corpus_test_file = 'bin_corpus_test.txt'\n",
    "\n",
    "with open(PARSED_DATA_PATH + corpus_train_file, 'r') as fp:\n",
    "    train_dataset = fp.readlines()\n",
    "\n",
    "with open(PARSED_DATA_PATH + corpus_test_file, 'r') as fp:\n",
    "    test_dataset = fp.readlines()\n",
    "\n",
    "with open(PARSED_DATA_PATH + bin_corpus_train_file, 'r') as fp:\n",
    "    bin_train_dataset = fp.readlines()\n",
    "    bin_train_dataset = [s.strip().split(SPLIT_CHAR) if s.strip() != '' else [] for s in bin_train_dataset]\n",
    "    bin_train_dataset = [np.array(s).astype('int') for s in bin_train_dataset]\n",
    "\n",
    "with open(PARSED_DATA_PATH + bin_corpus_test_file, 'r') as fp:\n",
    "    bin_test_dataset = fp.readlines()\n",
    "    bin_test_dataset = [s.strip().split(SPLIT_CHAR) if s.strip() != '' else [] for s in bin_test_dataset]\n",
    "    bin_test_dataset = [np.array(s).astype('int') for s in bin_test_dataset]"
   ]
  },
  {
   "cell_type": "code",
   "execution_count": 4,
   "metadata": {},
   "outputs": [],
   "source": [
    "def get_nlp_engine(basic_tokenizer=False):\n",
    "    if basic_tokenizer:\n",
    "        nlp = English()\n",
    "    else:\n",
    "        nlp = en_core_web_sm.load()\n",
    "    return nlp"
   ]
  },
  {
   "cell_type": "code",
   "execution_count": 5,
   "metadata": {},
   "outputs": [],
   "source": [
    "def tokenize_texts(texts, basic_tokenizer=False):\n",
    "    texts = texts.copy()\n",
    "    nlp = get_nlp_engine(basic_tokenizer=basic_tokenizer)\n",
    "    \n",
    "    for index, text in enumerate(texts):\n",
    "        nlp_tokens = nlp(text)\n",
    "        \n",
    "        pos = [w.pos_ for w in nlp_tokens]\n",
    "        lemmas = [w.lemma_.strip() if w.lemma_ != \"-PRON-\" else w.lower_.strip() for w in nlp_tokens]\n",
    "        lemmas = [w if any(c.isupper() for c in w) else w for w in lemmas]\n",
    "        \n",
    "        # Remove empty tokens\n",
    "        tokens = [(lemmas[i].strip(), pos[i], nlp_tokens[i]) for i in range(len(nlp_tokens)) if lemmas[i].strip() != '']\n",
    "        \n",
    "        texts[index] = tokens\n",
    "    \n",
    "    return texts"
   ]
  },
  {
   "cell_type": "code",
   "execution_count": 6,
   "metadata": {},
   "outputs": [],
   "source": [
    "train_dataset = tokenize_texts(train_dataset)\n",
    "test_dataset = tokenize_texts(test_dataset)"
   ]
  },
  {
   "cell_type": "code",
   "execution_count": 7,
   "metadata": {},
   "outputs": [],
   "source": [
    "tok_train_dataset = [[w[0] for w in text] for text in train_dataset]\n",
    "tok_test_dataset = [[w[0] for w in text] for text in test_dataset]"
   ]
  },
  {
   "cell_type": "code",
   "execution_count": 8,
   "metadata": {},
   "outputs": [],
   "source": [
    "pos_train_dataset = [[w[1] for w in text] for text in train_dataset]\n",
    "pos_test_dataset = [[w[1] for w in text] for text in test_dataset]"
   ]
  },
  {
   "cell_type": "markdown",
   "metadata": {},
   "source": [
    "We need to encode the list of strings into a list of numbers such as every number corresponds unequivocally to a string. Keras has already implemented a function for this purpose: https://keras.io/api/preprocessing/text/"
   ]
  },
  {
   "cell_type": "code",
   "execution_count": 9,
   "metadata": {},
   "outputs": [],
   "source": [
    "def get_keras_tokenizer(data, num_words=150000):\n",
    "    tokenizer = Tokenizer(num_words=num_words)\n",
    "    tokenizer.fit_on_texts(data)\n",
    "    return tokenizer"
   ]
  },
  {
   "cell_type": "code",
   "execution_count": 10,
   "metadata": {},
   "outputs": [],
   "source": [
    "def data_to_sequences(data, max_sequence_length, tokenizer=None):\n",
    "    if tokenizer:\n",
    "        data = tokenizer.texts_to_sequences(data)\n",
    "\n",
    "    data = sequence.pad_sequences(data, maxlen=max_sequence_length, padding='post')\n",
    "    return data"
   ]
  },
  {
   "cell_type": "code",
   "execution_count": 11,
   "metadata": {},
   "outputs": [],
   "source": [
    "tok_dataset = tok_train_dataset + tok_test_dataset\n",
    "word_tokenizer = get_keras_tokenizer(tok_dataset)\n",
    "\n",
    "pos_dataset = pos_train_dataset + pos_test_dataset\n",
    "pos_tokenizer = get_keras_tokenizer(pos_dataset)"
   ]
  },
  {
   "cell_type": "code",
   "execution_count": 12,
   "metadata": {},
   "outputs": [],
   "source": [
    "tok_train_dataset = data_to_sequences(tok_train_dataset, MAX_SEQUENCE_LENGTH, word_tokenizer)\n",
    "tok_test_dataset = data_to_sequences(tok_test_dataset, MAX_SEQUENCE_LENGTH, word_tokenizer)\n",
    "\n",
    "pos_train_dataset = data_to_sequences(pos_train_dataset, MAX_SEQUENCE_LENGTH, pos_tokenizer)\n",
    "pos_test_dataset = data_to_sequences(pos_test_dataset, MAX_SEQUENCE_LENGTH, pos_tokenizer)\n",
    "\n",
    "bin_train_dataset = data_to_sequences(bin_train_dataset, MAX_SEQUENCE_LENGTH)\n",
    "bin_test_dataset = data_to_sequences(bin_test_dataset, MAX_SEQUENCE_LENGTH)"
   ]
  },
  {
   "cell_type": "code",
   "execution_count": 13,
   "metadata": {},
   "outputs": [],
   "source": [
    "# For training the network we also need to change the bin_<>_dataset to categorial.\n",
    "bincat_train_dataset = np.array([to_categorical(i, num_classes=2) for i in bin_train_dataset])\n",
    "bincat_test_dataset = np.array([to_categorical(i, num_classes=2) for i in bin_test_dataset])"
   ]
  },
  {
   "cell_type": "markdown",
   "metadata": {},
   "source": [
    "## Create model\n",
    "\n",
    "The following model is based on the paper of *Zhiheng Huang et al.*: https://arxiv.org/pdf/1508.01991.pdf\n",
    "\n",
    "In this case I have two different outputs:\n",
    "- The string sequence.\n",
    "- The PoS tags sequence.\n",
    "\n",
    "Remember that both sequences must be numericals."
   ]
  },
  {
   "cell_type": "code",
   "execution_count": 14,
   "metadata": {},
   "outputs": [],
   "source": [
    "\"\"\"\n",
    "model_params: dictionary:\n",
    "- embedding_dim\n",
    "- lstm_cells\n",
    "- word_lstm_dropout\n",
    "- word_lstm_rec_dropout\n",
    "- pos_lstm_dropout\n",
    "- pos_lstm_rec_dropout\n",
    "\"\"\"\n",
    "def create_model(model_params, word_tokenizer, pos_tokenizer, sequence_length):\n",
    "    word_index = word_tokenizer.word_index\n",
    "    pos_index = pos_tokenizer.word_index\n",
    "\n",
    "    word_input = Input(shape=(sequence_length,), name='word_input')\n",
    "    word_pipe = Embedding(input_dim=len(word_index) + 1,\n",
    "                          output_dim=model_params['embedding_dim'],\n",
    "                          input_length=sequence_length,\n",
    "                          trainable=True)(word_input)\n",
    "    word_pipe = Bidirectional(\n",
    "                    LSTM(model_params['lstm_cells'],\n",
    "                         return_sequences=True,\n",
    "                         dropout=model_params['word_lstm_dropout'],\n",
    "                         recurrent_dropout=model_params['word_lstm_rec_dropout']),\n",
    "                    merge_mode='concat')(word_pipe)\n",
    "    word_pipe = TimeDistributed(Flatten())(word_pipe)\n",
    "\n",
    "    pos_input = Input(shape=(sequence_length,), name='pos_input')\n",
    "    pos_pipe = Embedding(input_dim=len(pos_index) + 1,\n",
    "                         output_dim=model_params['embedding_dim'],\n",
    "                         input_length=sequence_length,\n",
    "                         trainable=True)(pos_input)\n",
    "    pos_pipe = Bidirectional(\n",
    "                    LSTM(model_params['lstm_cells'],\n",
    "                         return_sequences=True,\n",
    "                         dropout=model_params['pos_lstm_dropout'],\n",
    "                         recurrent_dropout=model_params['pos_lstm_rec_dropout']),\n",
    "                    merge_mode='concat')(pos_pipe)\n",
    "    pos_pipe = TimeDistributed(Flatten())(pos_pipe)\n",
    "    \n",
    "    # Concatenate both inputs\n",
    "    comb_pipe = concatenate([word_pipe, pos_pipe])\n",
    "\n",
    "    # Main BiLSTM model\n",
    "    comb_pipe = Bidirectional(\n",
    "        LSTM(model_params['lstm_cells'], return_sequences=True),\n",
    "        merge_mode='concat')(comb_pipe)\n",
    "    comb_pipe = TimeDistributed(Dense(64))(comb_pipe)\n",
    "    \n",
    "    output = CRF(2, name='output')(comb_pipe)\n",
    "    \n",
    "    model = Model(inputs=[word_input, pos_input], outputs=output)\n",
    "    model.compile(\n",
    "        loss=crf_loss,\n",
    "        optimizer='adam',\n",
    "        metrics=[crf_accuracy]\n",
    "    )\n",
    "    \n",
    "    return model"
   ]
  },
  {
   "cell_type": "markdown",
   "metadata": {},
   "source": [
    "## Training\n",
    "\n",
    "I did not optimize the following parameters. If you want to get the best possible results, use some library to find the optimal parameter values: https://cloud.google.com/ai-platform/training/docs/hyperparameter-tuning-overview#whats_a_hyperparameter"
   ]
  },
  {
   "cell_type": "code",
   "execution_count": 15,
   "metadata": {},
   "outputs": [
    {
     "name": "stdout",
     "output_type": "stream",
     "text": [
      "Model: \"model_1\"\n",
      "__________________________________________________________________________________________________\n",
      "Layer (type)                    Output Shape         Param #     Connected to                     \n",
      "==================================================================================================\n",
      "word_input (InputLayer)         (None, 50)           0                                            \n",
      "__________________________________________________________________________________________________\n",
      "pos_input (InputLayer)          (None, 50)           0                                            \n",
      "__________________________________________________________________________________________________\n",
      "embedding_1 (Embedding)         (None, 50, 100)      875600      word_input[0][0]                 \n",
      "__________________________________________________________________________________________________\n",
      "embedding_2 (Embedding)         (None, 50, 100)      1800        pos_input[0][0]                  \n",
      "__________________________________________________________________________________________________\n",
      "bidirectional_1 (Bidirectional) (None, 50, 100)      60400       embedding_1[0][0]                \n",
      "__________________________________________________________________________________________________\n",
      "bidirectional_2 (Bidirectional) (None, 50, 100)      60400       embedding_2[0][0]                \n",
      "__________________________________________________________________________________________________\n",
      "time_distributed_1 (TimeDistrib (None, 50, 100)      0           bidirectional_1[0][0]            \n",
      "__________________________________________________________________________________________________\n",
      "time_distributed_2 (TimeDistrib (None, 50, 100)      0           bidirectional_2[0][0]            \n",
      "__________________________________________________________________________________________________\n",
      "concatenate_1 (Concatenate)     (None, 50, 200)      0           time_distributed_1[0][0]         \n",
      "                                                                 time_distributed_2[0][0]         \n",
      "__________________________________________________________________________________________________\n",
      "bidirectional_3 (Bidirectional) (None, 50, 100)      100400      concatenate_1[0][0]              \n",
      "__________________________________________________________________________________________________\n",
      "time_distributed_3 (TimeDistrib (None, 50, 64)       6464        bidirectional_3[0][0]            \n",
      "__________________________________________________________________________________________________\n",
      "output (CRF)                    (None, 50, 2)        138         time_distributed_3[0][0]         \n",
      "==================================================================================================\n",
      "Total params: 1,105,202\n",
      "Trainable params: 1,105,202\n",
      "Non-trainable params: 0\n",
      "__________________________________________________________________________________________________\n",
      "None\n"
     ]
    }
   ],
   "source": [
    "model_params = {\n",
    "    'embedding_dim': 100,\n",
    "    'lstm_cells': 50,\n",
    "    'word_lstm_dropout': 0.3,\n",
    "    'word_lstm_rec_dropout': 0.3,\n",
    "    'pos_lstm_dropout': 0.3,\n",
    "    'pos_lstm_rec_dropout': 0.3\n",
    "}\n",
    "\n",
    "model = create_model(model_params, word_tokenizer, pos_tokenizer, MAX_SEQUENCE_LENGTH)\n",
    "print(model.summary())"
   ]
  },
  {
   "cell_type": "code",
   "execution_count": 16,
   "metadata": {},
   "outputs": [
    {
     "name": "stderr",
     "output_type": "stream",
     "text": [
      "C:\\Users\\dimas\\Anaconda3\\lib\\site-packages\\tensorflow\\python\\framework\\indexed_slices.py:434: UserWarning: Converting sparse IndexedSlices to a dense Tensor of unknown shape. This may consume a large amount of memory.\n",
      "  \"Converting sparse IndexedSlices to a dense Tensor of unknown shape. \"\n"
     ]
    },
    {
     "name": "stdout",
     "output_type": "stream",
     "text": [
      "Epoch 1/5\n",
      "7771/7771 [==============================] - 49s 6ms/step - loss: 0.0531 - crf_accuracy: 0.9839\n",
      "Epoch 2/5\n",
      "7771/7771 [==============================] - 32s 4ms/step - loss: 0.0227 - crf_accuracy: 0.9933\n",
      "Epoch 3/5\n",
      "7771/7771 [==============================] - 32s 4ms/step - loss: 0.0133 - crf_accuracy: 0.9956\n",
      "Epoch 4/5\n",
      "7771/7771 [==============================] - 32s 4ms/step - loss: 0.0055 - crf_accuracy: 0.9969\n",
      "Epoch 5/5\n",
      "7771/7771 [==============================] - 32s 4ms/step - loss: -0.0010 - crf_accuracy: 0.9977\n"
     ]
    }
   ],
   "source": [
    "EPOCHS = 5\n",
    "\n",
    "# Add early stop\n",
    "early_stop = tf.keras.callbacks.EarlyStopping(monitor='loss', patience=2)\n",
    "\n",
    "history = model.fit(\n",
    "    {'word_input': tok_train_dataset, 'pos_input': pos_train_dataset},\n",
    "    bincat_train_dataset,\n",
    "    epochs=EPOCHS,\n",
    "    callbacks=[early_stop],\n",
    "    verbose=1\n",
    ")"
   ]
  },
  {
   "cell_type": "markdown",
   "metadata": {},
   "source": [
    "## Evalutaion"
   ]
  },
  {
   "cell_type": "code",
   "execution_count": 17,
   "metadata": {},
   "outputs": [],
   "source": [
    "pred_bincat_test_dataset = model.predict({'word_input': tok_test_dataset, 'pos_input': pos_test_dataset})\n",
    "pred_bin_test_dataset = [np.argmax(s, axis=1) for s in pred_bincat_test_dataset]"
   ]
  },
  {
   "cell_type": "code",
   "execution_count": 18,
   "metadata": {},
   "outputs": [],
   "source": [
    "def confusion_matrix(real_bin_dataset, pred_bin_dataset):\n",
    "    if len(real_bin_dataset) != len(pred_bin_dataset):\n",
    "        raise Exception('Different lengths in lists: %d vs %d' % (len(real_bin_dataset), len(pred_bin_dataset)))\n",
    "    \n",
    "    tn = 0\n",
    "    fp = 0\n",
    "    fn = 0\n",
    "    tp = 0\n",
    "    \n",
    "    text_i = 0\n",
    "    len_texts = len(real_bin_dataset)\n",
    "    \n",
    "    while text_i < len_texts:\n",
    "        token_i = 0\n",
    "        len_text = len(real_bin_dataset[text_i])\n",
    "        \n",
    "        while token_i < len_text:\n",
    "            if real_bin_dataset[text_i][token_i] == 1:\n",
    "                tp = tp + int(pred_bin_dataset[text_i][token_i] == 1)\n",
    "                fn = fn + int(pred_bin_dataset[text_i][token_i] == 0)\n",
    "            else:\n",
    "                fp = fp + int(pred_bin_dataset[text_i][token_i] == 1)\n",
    "                tn = tn + int(pred_bin_dataset[text_i][token_i] == 0)\n",
    "            token_i = token_i + 1\n",
    "\n",
    "        text_i = text_i + 1\n",
    "    \n",
    "    return np.array([[tn, fp], [fn, tp]])"
   ]
  },
  {
   "cell_type": "code",
   "execution_count": 19,
   "metadata": {},
   "outputs": [],
   "source": [
    "def plot_confusion_matrix(conf_matrix, normalize=True):\n",
    "    conf_matrix = copy.deepcopy(conf_matrix)\n",
    "    \n",
    "    if normalize:\n",
    "        conf_matrix = np.around(conf_matrix.astype('float') / conf_matrix.sum(axis=1)[:, np.newaxis], decimals=2)\n",
    "    \n",
    "    label_names = ['Bad', 'Good']\n",
    "    df_confusion_matrix = pd.DataFrame(conf_matrix,\n",
    "                                       index=label_names, \n",
    "                                       columns=label_names)\n",
    "\n",
    "    plt.figure(figsize=(5, 5))\n",
    "    sns.heatmap(df_confusion_matrix, cmap=plt.cm.Blues, annot=True)\n",
    "    plt.ylabel('True label')\n",
    "    plt.xlabel('Predicted label')"
   ]
  },
  {
   "cell_type": "code",
   "execution_count": 20,
   "metadata": {},
   "outputs": [
    {
     "data": {
      "image/png": "[encoded data removed]",
      "text/plain": [
       "<Figure size 360x360 with 2 Axes>"
      ]
     },
     "metadata": {
      "needs_background": "light"
     },
     "output_type": "display_data"
    }
   ],
   "source": [
    "cm = confusion_matrix(bin_test_dataset, pred_bin_test_dataset)\n",
    "plot_confusion_matrix(cm)"
   ]
  },
  {
   "cell_type": "markdown",
   "metadata": {},
   "source": [
    "From my point of view, the results are nice: I do not get any false positive, thus I do not identify \"false entities\" in the text. However, I should keep working on my model to detect all the entities, since there are $34\\%$ of them that I am not identifying correctly."
   ]
  },
  {
   "cell_type": "markdown",
   "metadata": {},
   "source": [
    "## Make a prediction\n",
    "\n",
    "Here I do some predictions and transform the categorical output into the entity strings."
   ]
  },
  {
   "cell_type": "code",
   "execution_count": 21,
   "metadata": {},
   "outputs": [],
   "source": [
    "def make_bin_pred(model, nlp_text):\n",
    "    tok_texts = list([[w[0] for w in nlp_text]])\n",
    "    pos_texts = list([[w[1] for w in nlp_text]])\n",
    "\n",
    "    tok_texts = data_to_sequences(tok_texts, MAX_SEQUENCE_LENGTH, word_tokenizer)\n",
    "    pos_texts = data_to_sequences(pos_texts, MAX_SEQUENCE_LENGTH, pos_tokenizer)\n",
    "\n",
    "    # Make the prediction\n",
    "    pred_entities = model.predict({'word_input': tok_texts, 'pos_input': pos_texts})\n",
    "    pred_entities = [np.argmax(s, axis=1) for s in pred_entities]\n",
    "    \n",
    "    return pred_entities[0]"
   ]
  },
  {
   "cell_type": "code",
   "execution_count": 22,
   "metadata": {},
   "outputs": [],
   "source": [
    "def bin_pred_to_str(nlp_text, bin_pred):\n",
    "    i = 0\n",
    "    \n",
    "    text_length = len(nlp_text)\n",
    "    entities = []\n",
    "\n",
    "    # Get list of entities separately\n",
    "    entities_stack = []\n",
    "    while i < text_length:\n",
    "        if bin_pred[i]:\n",
    "            entities_stack.append((i, nlp_text[i][2].text_with_ws))\n",
    "        i = i + 1\n",
    "\n",
    "    # Concatenate consecutive entities\n",
    "    last_pos = None\n",
    "    for e in entities_stack:\n",
    "        if last_pos == e[0] - 1:\n",
    "            last_pos = e[0]\n",
    "            n_entities = len(entities) - 1\n",
    "            entities[n_entities] = entities[n_entities] + e[1]\n",
    "        else:\n",
    "            last_pos = e[0]\n",
    "            entities.append(e[1])\n",
    "\n",
    "    entities = [e.strip() for e in entities]        \n",
    "    \n",
    "    return entities"
   ]
  },
  {
   "cell_type": "code",
   "execution_count": 23,
   "metadata": {},
   "outputs": [],
   "source": [
    "def get_entities(text, model):\n",
    "    # Put the previous text inside of a list\n",
    "    texts = list([text])\n",
    "\n",
    "    # Tokenize it and get PoS tags\n",
    "    nlp_text = tokenize_texts(texts)[0]\n",
    "\n",
    "    pred_bin_text = make_bin_pred(model, nlp_text)\n",
    "    pred_str_entities = bin_pred_to_str(nlp_text, pred_bin_text)\n",
    "    \n",
    "    return pred_str_entities"
   ]
  },
  {
   "cell_type": "code",
   "execution_count": 24,
   "metadata": {},
   "outputs": [
    {
     "name": "stdout",
     "output_type": "stream",
     "text": [
      "['breast and ovarian cancer']\n"
     ]
    }
   ],
   "source": [
    "text = 'Germ-line mutations of the BRCA1 gene predispose women to early-onset breast '\\\n",
    "       'and ovarian cancer by compromising the genes presumptive function as a tumor suppressor'\n",
    "\n",
    "pred_str_entities = get_entities(text, model)\n",
    "\n",
    "print(pred_str_entities)"
   ]
  },
  {
   "cell_type": "code",
   "execution_count": 25,
   "metadata": {},
   "outputs": [
    {
     "name": "stdout",
     "output_type": "stream",
     "text": [
      "[]\n"
     ]
    }
   ],
   "source": [
    "text = 'The patient has been diagnosed with scoliosis.'\n",
    "\n",
    "pred_str_entities = get_entities(text, model)\n",
    "\n",
    "print(pred_str_entities)"
   ]
  },
  {
   "cell_type": "markdown",
   "metadata": {},
   "source": [
    "## Store model"
   ]
  },
  {
   "cell_type": "code",
   "execution_count": 26,
   "metadata": {},
   "outputs": [],
   "source": [
    "def create_model_dir(model_name):\n",
    "    model_path = ARTIFACTS_PATH + model_name + '/'\n",
    "    if not os.path.exists(model_path):\n",
    "        os.mkdir(model_path)"
   ]
  },
  {
   "cell_type": "code",
   "execution_count": 27,
   "metadata": {},
   "outputs": [],
   "source": [
    "def save_model(model_name, model):\n",
    "    create_model_dir(model_name)\n",
    "    model_path = ARTIFACTS_PATH + model_name + '/'\n",
    "    model.save_weights(model_path + 'model.h5')"
   ]
  },
  {
   "cell_type": "code",
   "execution_count": 28,
   "metadata": {},
   "outputs": [],
   "source": [
    "def save_tokenizer(model_name, word_tokenizer, pos_tokenizer):\n",
    "    create_model_dir(model_name)\n",
    "    model_path = ARTIFACTS_PATH + model_name + '/'\n",
    "    \n",
    "    with open(model_path + 'word_tokenizer.pickle', 'wb') as fp:\n",
    "        pickle.dump(word_tokenizer, fp, protocol=pickle.HIGHEST_PROTOCOL)\n",
    "        \n",
    "    with open(model_path + 'pos_tokenizer.pickle', 'wb') as fp:\n",
    "        pickle.dump(pos_tokenizer, fp, protocol=pickle.HIGHEST_PROTOCOL)"
   ]
  },
  {
   "cell_type": "code",
   "execution_count": 29,
   "metadata": {},
   "outputs": [
    {
     "name": "stdout",
     "output_type": "stream",
     "text": [
      "Saved!\n"
     ]
    }
   ],
   "source": [
    "save_model(MODEL_NAME, model)\n",
    "save_tokenizer(MODEL_NAME, word_tokenizer, pos_tokenizer)\n",
    "print('Saved!')"
   ]
  },
  {
   "cell_type": "code",
   "execution_count": null,
   "metadata": {},
   "outputs": [],
   "source": []
  }
 ],
 "metadata": {
  "kernelspec": {
   "display_name": "Python 3",
   "language": "python",
   "name": "python3"
  },
  "language_info": {
   "codemirror_mode": {
    "name": "ipython",
    "version": 3
   },
   "file_extension": ".py",
   "mimetype": "text/x-python",
   "name": "python",
   "nbconvert_exporter": "python",
   "pygments_lexer": "ipython3",
   "version": "3.7.4"
  }
 },
 "nbformat": 4,
 "nbformat_minor": 4
}
